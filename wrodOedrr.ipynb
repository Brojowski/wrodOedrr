{
 "cells": [
  {
   "metadata": {},
   "cell_type": "markdown",
   "source": "# Blotch the image",
   "id": "8a77807f92f26ee"
  },
  {
   "metadata": {
    "ExecuteTime": {
     "end_time": "2024-08-24T23:23:40.319832Z",
     "start_time": "2024-08-24T23:23:40.305327Z"
    }
   },
   "cell_type": "code",
   "source": "from PIL import Image, ImageDraw",
   "id": "fbc121e30a2defb3",
   "outputs": [],
   "execution_count": 116
  },
  {
   "metadata": {
    "ExecuteTime": {
     "end_time": "2024-08-24T23:23:40.383847Z",
     "start_time": "2024-08-24T23:23:40.369844Z"
    }
   },
   "cell_type": "code",
   "source": "blotch_size = 5",
   "id": "1e5d9ef2ef70db0e",
   "outputs": [],
   "execution_count": 118
  },
  {
   "metadata": {
    "ExecuteTime": {
     "end_time": "2024-08-24T23:23:40.415855Z",
     "start_time": "2024-08-24T23:23:40.400851Z"
    }
   },
   "cell_type": "code",
   "source": [
    "def blotch(im, blotch_size=blotch_size):\n",
    "    blob = Image.new('1', im.size, (1))\n",
    "    draw = ImageDraw.Draw(blob)\n",
    "\n",
    "    for y in range(im.size[1]):\n",
    "        for x in range(im.size[0]):\n",
    "            if im.getpixel((x, y)) < 1:\n",
    "                draw.ellipse((x,y, x+blotch_size, y+blotch_size), fill=0)\n",
    "    \n",
    "    return blob\n"
   ],
   "id": "ab4dd89e47119c83",
   "outputs": [],
   "execution_count": 119
  },
  {
   "metadata": {},
   "cell_type": "markdown",
   "source": "# Generate initial text image ",
   "id": "2829f0d997d4a77"
  },
  {
   "metadata": {
    "ExecuteTime": {
     "end_time": "2024-08-24T23:23:40.478513Z",
     "start_time": "2024-08-24T23:23:40.463508Z"
    }
   },
   "cell_type": "code",
   "source": "from PIL import Image, ImageFont, ImageDraw",
   "id": "d815e051918caca9",
   "outputs": [],
   "execution_count": 121
  },
  {
   "metadata": {
    "ExecuteTime": {
     "end_time": "2024-08-24T23:23:40.509510Z",
     "start_time": "2024-08-24T23:23:40.495509Z"
    }
   },
   "cell_type": "code",
   "source": [
    "font_size = 24\n",
    "img_height_mult = 3\n",
    "img_width_mult = 1"
   ],
   "id": "e6770e3b983f67d2",
   "outputs": [],
   "execution_count": 122
  },
  {
   "metadata": {
    "ExecuteTime": {
     "end_time": "2024-08-24T23:23:40.540510Z",
     "start_time": "2024-08-24T23:23:40.526516Z"
    }
   },
   "cell_type": "code",
   "source": [
    "def text_to_image(word: str, font_name='consola.ttf', font_size=font_size):\n",
    "    txt = Image.new('1', (int(font_size * len(word) * img_width_mult), font_size * img_height_mult), (1))\n",
    "    font = ImageFont.truetype(font_name, font_size)\n",
    "    draw = ImageDraw.Draw(txt)\n",
    "    draw.text((font_size, font_size), word, font=font, fill=0)\n",
    "    return txt"
   ],
   "id": "67130a1751cae45f",
   "outputs": [],
   "execution_count": 123
  },
  {
   "metadata": {
    "ExecuteTime": {
     "end_time": "2024-08-24T23:23:40.570519Z",
     "start_time": "2024-08-24T23:23:40.556517Z"
    }
   },
   "cell_type": "code",
   "source": "text_to_image('common')",
   "id": "b32e0b3ae183761d",
   "outputs": [
    {
     "data": {
      "text/plain": [
       "<PIL.Image.Image image mode=1 size=144x72>"
      ],
      "image/png": "[encoded data removed]"
     },
     "execution_count": 124,
     "metadata": {},
     "output_type": "execute_result"
    }
   ],
   "execution_count": 124
  },
  {
   "metadata": {},
   "cell_type": "markdown",
   "source": "# Image diff section\n",
   "id": "b15c2a391a061ff5"
  },
  {
   "metadata": {
    "ExecuteTime": {
     "end_time": "2024-08-24T23:23:40.602527Z",
     "start_time": "2024-08-24T23:23:40.587524Z"
    }
   },
   "cell_type": "code",
   "source": [
    "original = blotch(text_to_image('slight'))\n",
    "original"
   ],
   "id": "f88e3bcc6bbb61a1",
   "outputs": [
    {
     "data": {
      "text/plain": [
       "<PIL.Image.Image image mode=1 size=144x72>"
      ],
      "image/png": "[encoded data removed]"
     },
     "execution_count": 125,
     "metadata": {},
     "output_type": "execute_result"
    }
   ],
   "execution_count": 125
  },
  {
   "metadata": {
    "ExecuteTime": {
     "end_time": "2024-08-24T23:23:40.634041Z",
     "start_time": "2024-08-24T23:23:40.619038Z"
    }
   },
   "cell_type": "code",
   "source": [
    "reordered = blotch(text_to_image('sghilt'))\n",
    "reordered"
   ],
   "id": "ddb42ebe360b370d",
   "outputs": [
    {
     "data": {
      "text/plain": [
       "<PIL.Image.Image image mode=1 size=144x72>"
      ],
      "image/png": "[encoded data removed]"
     },
     "execution_count": 126,
     "metadata": {},
     "output_type": "execute_result"
    }
   ],
   "execution_count": 126
  },
  {
   "metadata": {
    "ExecuteTime": {
     "end_time": "2024-08-24T23:23:40.666049Z",
     "start_time": "2024-08-24T23:23:40.651046Z"
    }
   },
   "cell_type": "code",
   "source": [
    "def image_diff(original, reordered):\n",
    "    diff = Image.new('1', original.size, color=1)\n",
    "    for y in range(original.size[1]):\n",
    "        for x in range(original.size[0]):\n",
    "            if original.getpixel((x, y)) != reordered.getpixel((x, y)):\n",
    "                diff.putpixel((x, y), 0)\n",
    "    return diff"
   ],
   "id": "cafa79dc33b9922e",
   "outputs": [],
   "execution_count": 127
  },
  {
   "metadata": {
    "ExecuteTime": {
     "end_time": "2024-08-24T23:23:40.698055Z",
     "start_time": "2024-08-24T23:23:40.683052Z"
    }
   },
   "cell_type": "code",
   "source": [
    "def compare_spellings(str1, str2):\n",
    "    img1 = blotch(text_to_image(str1))\n",
    "    img2 = blotch(text_to_image(str2))\n",
    "    diff = image_diff(img1, img2)\n",
    "    display(img1)\n",
    "    display(img2)\n",
    "    display(diff)\n",
    "    return diff"
   ],
   "id": "693b135f333f47ae",
   "outputs": [],
   "execution_count": 128
  },
  {
   "metadata": {
    "ExecuteTime": {
     "end_time": "2024-08-24T23:23:40.967606Z",
     "start_time": "2024-08-24T23:23:40.715062Z"
    }
   },
   "cell_type": "code",
   "source": "compare_spellings('adkmgowenlcent - whcih cmeos in a reropt of new mcie etpnremxeis', 'acknowledgment - which comes in a report of new mice experiments')",
   "id": "33e0c6e9a0947e8",
   "outputs": [
    {
     "data": {
      "text/plain": [
       "<PIL.Image.Image image mode=1 size=1536x72>"
      ],
      "image/png": "[encoded data removed]"
     },
     "metadata": {},
     "output_type": "display_data"
    },
    {
     "data": {
      "text/plain": [
       "<PIL.Image.Image image mode=1 size=1536x72>"
      ],
      "image/png": "[encoded data removed]"
     },
     "metadata": {},
     "output_type": "display_data"
    },
    {
     "data": {
      "text/plain": [
       "<PIL.Image.Image image mode=1 size=1536x72>"
      ],
      "image/png": "[encoded data removed]"
     },
     "metadata": {},
     "output_type": "display_data"
    },
    {
     "data": {
      "text/plain": [
       "<PIL.Image.Image image mode=1 size=1536x72>"
      ],
      "image/png": "[encoded data removed]"
     },
     "execution_count": 129,
     "metadata": {},
     "output_type": "execute_result"
    }
   ],
   "execution_count": 129
  },
  {
   "metadata": {},
   "cell_type": "markdown",
   "source": "# Make it interactive",
   "id": "eb1d03e54b6f37a2"
  },
  {
   "metadata": {
    "ExecuteTime": {
     "end_time": "2024-08-24T23:23:41.015617Z",
     "start_time": "2024-08-24T23:23:41.000613Z"
    }
   },
   "cell_type": "code",
   "source": [
    "from ipywidgets import interact, interactive\n",
    "from IPython.display import display\n",
    "import ipywidgets as widgets"
   ],
   "id": "2a6321fcf4c0adb2",
   "outputs": [],
   "execution_count": 130
  },
  {
   "metadata": {
    "ExecuteTime": {
     "end_time": "2024-08-24T23:23:41.031127Z",
     "start_time": "2024-08-24T23:23:41.018122Z"
    }
   },
   "cell_type": "code",
   "source": "img1 = widgets.Output()\n",
   "id": "4ea8ba0860a7a3e6",
   "outputs": [],
   "execution_count": 131
  },
  {
   "metadata": {
    "ExecuteTime": {
     "end_time": "2024-08-24T23:23:41.094144Z",
     "start_time": "2024-08-24T23:23:41.047133Z"
    }
   },
   "cell_type": "code",
   "source": [
    "\n",
    "@interact(\n",
    "    spelling1='Hello',\n",
    "    spelling2='Hlelo',\n",
    "    font=['arial.ttf', 'consola.ttf'],\n",
    "    font_size=widgets.IntSlider(value=24, min=8, max=80, step=8, description='Font size'),\n",
    "    blotch_size=widgets.IntSlider(min=1, max=font_size, step=1, value=5)\n",
    ")\n",
    "def regen(spelling1, spelling2, font, font_size, blotch_size):\n",
    "    img1 = blotch(text_to_image(spelling1, font, font_size=font_size), blotch_size)\n",
    "    img2 = blotch(text_to_image(spelling2, font, font_size=font_size), blotch_size)\n",
    "    diff = image_diff(img1, img2)\n",
    "    display(img1)\n",
    "    display(img2)\n",
    "    display(diff)\n"
   ],
   "id": "f2fee85eee8ec525",
   "outputs": [
    {
     "data": {
      "text/plain": [
       "interactive(children=(Text(value='Hello', description='spelling1'), Text(value='Hlelo', description='spelling2…"
      ],
      "application/vnd.jupyter.widget-view+json": {
       "version_major": 2,
       "version_minor": 0,
       "model_id": "6f43df633cc34ca3a3abab94fa7913d7"
      }
     },
     "metadata": {},
     "output_type": "display_data"
    }
   ],
   "execution_count": 132
  }
 ],
 "metadata": {
  "kernelspec": {
   "display_name": "Python 3",
   "language": "python",
   "name": "python3"
  },
  "language_info": {
   "codemirror_mode": {
    "name": "ipython",
    "version": 2
   },
   "file_extension": ".py",
   "mimetype": "text/x-python",
   "name": "python",
   "nbconvert_exporter": "python",
   "pygments_lexer": "ipython2",
   "version": "2.7.6"
  }
 },
 "nbformat": 4,
 "nbformat_minor": 5
}
